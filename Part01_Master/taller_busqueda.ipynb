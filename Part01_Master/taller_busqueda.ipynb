{
 "cells": [
  {
   "cell_type": "markdown",
   "id": "3bca6dc7",
   "metadata": {},
   "source": [
    "# Taller de Algoritmos de Búsqueda\n",
    "\n",
    "Este cuaderno sirve como base para el desarrollo del taller propuesto en la Maestría en Inteligencia Artificial. Contiene estructuras, grafos y algoritmos de búsqueda para resolver los ejercicios planteados."
   ]
  },
  {
   "cell_type": "markdown",
   "id": "b7614ca4",
   "metadata": {},
   "source": [
    "## Estructuras Base"
   ]
  },
  {
   "cell_type": "code",
   "execution_count": null,
   "id": "42fe48fa",
   "metadata": {},
   "outputs": [],
   "source": [
    "# Librerías necesarias\n",
    "import networkx as nx\n",
    "import matplotlib.pyplot as plt\n",
    "from queue import PriorityQueue, Queue, LifoQueue\n",
    "import time\n",
    "\n",
    "# Nodo básico para búsqueda\n",
    "class Node:\n",
    "    def __init__(self, state, parent=None, action=None, path_cost=0):\n",
    "        self.state = state\n",
    "        self.parent = parent\n",
    "        self.action = action\n",
    "        self.path_cost = path_cost\n",
    "\n",
    "    def __lt__(self, other):\n",
    "        return self.path_cost < other.path_cost\n",
    "\n",
    "    def solution(self):\n",
    "        path, node = [], self\n",
    "        while node:\n",
    "            path.append(node.state)\n",
    "            node = node.parent\n",
    "        return list(reversed(path))"
   ]
  },
  {
   "cell_type": "markdown",
   "id": "f1242c5f",
   "metadata": {},
   "source": [
    "## Ejercicio 1: Optimización de rutas rurales (Logística)"
   ]
  },
  {
   "cell_type": "code",
   "execution_count": null,
   "id": "cc8a6220",
   "metadata": {},
   "outputs": [],
   "source": [
    "# Grafo de ejemplo para logística\n",
    "G1 = nx.Graph()\n",
    "edges1 = [('A', 'B', 7), ('A', 'C', 9), ('B', 'D', 10), ('C', 'D', 2), ('C', 'E', 11), ('D', 'E', 1)]\n",
    "G1.add_weighted_edges_from(edges1)\n",
    "\n",
    "# Visualización\n",
    "plt.figure(figsize=(6, 4))\n",
    "pos = nx.spring_layout(G1)\n",
    "nx.draw(G1, pos, with_labels=True, node_color='lightgreen', node_size=1000)\n",
    "labels = nx.get_edge_attributes(G1, 'weight')\n",
    "nx.draw_networkx_edge_labels(G1, pos, edge_labels=labels)\n",
    "plt.title(\"Red logística rural\")\n",
    "plt.show()"
   ]
  },
  {
   "cell_type": "markdown",
   "id": "f7324783",
   "metadata": {},
   "source": [
    "## Ejercicio 2: Red de metro (Transporte)"
   ]
  },
  {
   "cell_type": "code",
   "execution_count": null,
   "id": "b4a0a2dc",
   "metadata": {},
   "outputs": [],
   "source": [
    "# Grafo de red de metro\n",
    "G2 = nx.Graph()\n",
    "edges2 = [('A','B'), ('A','C'), ('B','D'), ('B','E'), ('C','F'), ('D','G'), ('E','H'), ('E','I'), ('F','J'), ('I','J')]\n",
    "G2.add_edges_from(edges2)\n",
    "\n",
    "# Visualización\n",
    "plt.figure(figsize=(6, 4))\n",
    "pos = nx.spring_layout(G2)\n",
    "nx.draw(G2, pos, with_labels=True, node_color='skyblue', node_size=1000)\n",
    "plt.title(\"Red de Metro\")\n",
    "plt.show()"
   ]
  },
  {
   "cell_type": "markdown",
   "id": "3cbfe58f",
   "metadata": {},
   "source": [
    "## Ejercicio 3: Filogenia (Biología)"
   ]
  },
  {
   "cell_type": "code",
   "execution_count": null,
   "id": "e94c0544",
   "metadata": {},
   "outputs": [],
   "source": [
    "# Grafo filogenético (simplificado)\n",
    "G3 = nx.DiGraph()\n",
    "edges3 = [('Ancestro', 'Mamífero'), ('Ancestro', 'Ave'), ('Mamífero', 'Humano'), ('Mamífero', 'Perro'), ('Ave', 'Gallo')]\n",
    "G3.add_edges_from(edges3)\n",
    "\n",
    "# Visualización\n",
    "plt.figure(figsize=(6, 4))\n",
    "pos = nx.spring_layout(G3)\n",
    "nx.draw(G3, pos, with_labels=True, node_color='lightcoral', node_size=1000, arrows=True)\n",
    "plt.title(\"Árbol Filogenético\")\n",
    "plt.show()"
   ]
  },
  {
   "cell_type": "markdown",
   "id": "f835995a",
   "metadata": {},
   "source": [
    "## Ejercicio 4: Decisiones de inversión (Economía)"
   ]
  },
  {
   "cell_type": "code",
   "execution_count": null,
   "id": "edeb2a44",
   "metadata": {},
   "outputs": [],
   "source": [
    "# Árbol de decisiones económicas\n",
    "G4 = nx.DiGraph()\n",
    "edges4 = [('Inicio', 'Ahorrar'), ('Inicio', 'Invertir'), ('Ahorrar', 'CDT'), ('Ahorrar', 'Cuenta Ahorros'), ('Invertir', 'Cripto'), ('Invertir', 'Inmueble')]\n",
    "G4.add_edges_from(edges4)\n",
    "\n",
    "# Visualización\n",
    "plt.figure(figsize=(6, 4))\n",
    "pos = nx.spring_layout(G4)\n",
    "nx.draw(G4, pos, with_labels=True, node_color='lightyellow', node_size=1000, arrows=True)\n",
    "plt.title(\"Árbol de decisiones de inversión\")\n",
    "plt.show()"
   ]
  },
  {
   "cell_type": "markdown",
   "id": "739a73a3",
   "metadata": {},
   "source": [
    "## Ejercicio 5: Evacuación de emergencia (Infraestructura)"
   ]
  },
  {
   "cell_type": "code",
   "execution_count": null,
   "id": "a5d52a08",
   "metadata": {},
   "outputs": [],
   "source": [
    "# Grafo de evacuación (con niveles de riesgo)\n",
    "G5 = nx.Graph()\n",
    "edges5 = [('Casa', 'Calle 1', 3), ('Calle 1', 'Calle 2', 2), ('Calle 1', 'Parque', 5), ('Calle 2', 'Hospital', 1), ('Parque', 'Hospital', 2)]\n",
    "G5.add_weighted_edges_from(edges5)\n",
    "\n",
    "# Visualización\n",
    "plt.figure(figsize=(6, 4))\n",
    "pos = nx.spring_layout(G5)\n",
    "nx.draw(G5, pos, with_labels=True, node_color='salmon', node_size=1000)\n",
    "labels = nx.get_edge_attributes(G5, 'weight')\n",
    "nx.draw_networkx_edge_labels(G5, pos, edge_labels=labels)\n",
    "plt.title(\"Red de evacuación\")\n",
    "plt.show()"
   ]
  }
 ],
 "metadata": {},
 "nbformat": 4,
 "nbformat_minor": 5
}
