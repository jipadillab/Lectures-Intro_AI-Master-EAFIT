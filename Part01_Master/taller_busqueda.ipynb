{
 "cells": [
  {
   "cell_type": "markdown",
   "metadata": {},
   "source": [
    "# Taller de Algoritmos de Búsqueda\n",
    "\n",
    "Este notebook contiene la base para el desarrollo del taller de algoritmos de búsqueda - EAFIT:\n",
    "\n",
    "Incluye definiciones de grafos, estructuras de nodos, y algoritmos de búsqueda para ser usados en los ejercicios propuestos."
   ]
  },
  {
   "cell_type": "code",
   "execution_count": null,
   "metadata": {},
   "outputs": [],
   "source": [
    "# Librerías necesarias\n",
    "import networkx as nx\n",
    "import matplotlib.pyplot as plt\n",
    "from queue import PriorityQueue, Queue, LifoQueue\n",
    "import math"
   ]
  },
  {
   "cell_type": "markdown",
   "metadata": {},
   "source": [
    "## Estructuras base para los algoritmos"
   ]
  },
  {
   "cell_type": "code",
   "execution_count": null,
   "metadata": {},
   "outputs": [],
   "source": [
    "# Clase para representar un nodo\n",
    "class Node:\n",
    "    def __init__(self, state, parent=None, action=None, path_cost=0):\n",
    "        self.state = state\n",
    "        self.parent = parent\n",
    "        self.action = action\n",
    "        self.path_cost = path_cost\n",
    "\n",
    "    def __lt__(self, other):\n",
    "        return self.path_cost < other.path_cost\n",
    "\n",
    "    def solution(self):\n",
    "        path, node = [], self\n",
    "        while node:\n",
    "            path.append(node.state)\n",
    "            node = node.parent\n",
    "        return list(reversed(path))"
   ]
  },
  {
   "cell_type": "markdown",
   "metadata": {},
   "source": [
    "## Grafo de ejemplo: Red de metro (Ejercicio 2)"
   ]
  },
  {
   "cell_type": "code",
   "execution_count": null,
   "metadata": {},
   "outputs": [],
   "source": [
    "# Grafo del sistema de metro\n",
    "G = nx.Graph()\n",
    "edges = [\n",
    "    ('A', 'B'), ('A', 'C'),\n",
    "    ('B', 'D'), ('B', 'E'),\n",
    "    ('C', 'F'),\n",
    "    ('D', 'G'),\n",
    "    ('E', 'H'), ('E', 'I'),\n",
    "    ('F', 'J'),\n",
    "    ('I', 'J')\n",
    "]\n",
    "G.add_edges_from(edges)\n",
    "\n",
    "# Visualización\n",
    "plt.figure(figsize=(8,6))\n",
    "pos = nx.spring_layout(G)\n",
    "nx.draw(G, pos, with_labels=True, node_color='skyblue', node_size=2000, font_size=14)\n",
    "plt.title(\"Red de Metro para búsqueda\")\n",
    "plt.show()"
   ]
  },
  {
   "cell_type": "markdown",
   "metadata": {},
   "source": [
    "## Algoritmo de búsqueda en anchura (BFS)"
   ]
  },
  {
   "cell_type": "code",
   "execution_count": null,
   "metadata": {},
   "outputs": [],
   "source": [
    "def breadth_first_search(graph, start, goal):\n",
    "    frontier = Queue()\n",
    "    frontier.put(Node(start))\n",
    "    explored = set()\n",
    "\n",
    "    while not frontier.empty():\n",
    "        node = frontier.get()\n",
    "        if node.state == goal:\n",
    "            return node.solution()\n",
    "        explored.add(node.state)\n",
    "        for neighbor in graph.neighbors(node.state):\n",
    "            if neighbor not in explored:\n",
    "                frontier.put(Node(neighbor, node))\n",
    "                explored.add(neighbor)\n",
    "    return None\n",
    "\n",
    "# Ejemplo de uso\n",
    "print(\"Ruta de A a J:\", breadth_first_search(G, 'A', 'J'))"
   ]
  }
 ],
 "metadata": {
  "kernelspec": {
   "display_name": "Python 3",
   "language": "python",
   "name": "python3"
  },
  "language_info": {
   "name": "python",
   "version": "3.9"
  }
 },
 "nbformat": 4,
 "nbformat_minor": 2
}
