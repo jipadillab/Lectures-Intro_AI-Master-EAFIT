{
 "cells": [
  {
   "cell_type": "markdown",
   "id": "b462b357",
   "metadata": {},
   "source": [
    "# Guía de Trabajo: Agentes Lógicos y el Mundo del Wumpus\n",
    "Este cuaderno está diseñado para estudiantes de maestría en inteligencia artificial. Integra teoría, código y ejercicios aplicados para desarrollar competencias en lógica, inferencia, representación del conocimiento y programación en Python.\n",
    "\n",
    "**Duración estimada:** 1.5 - 2 horas\n",
    "\n",
    "**Nombre del estudiante:** _________________________"
   ]
  },
  {
   "cell_type": "markdown",
   "id": "69e1737c",
   "metadata": {},
   "source": [
    "## Pregunta 1: Inferencia lógica con TELL y ASK\n",
    "Interpreta y explica el siguiente código:"
   ]
  },
  {
   "cell_type": "code",
   "execution_count": null,
   "id": "f8fb5673",
   "metadata": {},
   "outputs": [],
   "source": [
    "KB = {}\n",
    "\n",
    "def TELL(statement):\n",
    "    KB.update(statement)\n",
    "\n",
    "def ASK(query):\n",
    "    return KB.get(query, None)\n",
    "\n",
    "TELL({\"Brisa_2_1\": True})\n",
    "TELL({\"Pozo_2_2\": \"Posible\"})"
   ]
  },
  {
   "cell_type": "markdown",
   "id": "2516c4aa",
   "metadata": {},
   "source": [
    "**Instrucciones:**\n",
    "- ¿Qué representa cada sentencia `TELL` en términos del entorno del Wumpus?\n",
    "- ¿Qué devuelve `ASK(\"Brisa_2_1\")` y qué se puede inferir?\n",
    "- ¿Qué limitaciones tiene este modelo?"
   ]
  },
  {
   "cell_type": "markdown",
   "id": "3b8c7f6f",
   "metadata": {},
   "source": [
    "## Pregunta 2: PEAS y medida de desempeño\n",
    "Analiza el siguiente fragmento de código:"
   ]
  },
  {
   "cell_type": "code",
   "execution_count": null,
   "id": "a1c7bf8d",
   "metadata": {},
   "outputs": [],
   "source": [
    "PEAS = {\n",
    "    \"performance\": lambda steps, gold, dead: 1000 * gold - 1 * steps - 1000 * dead,\n",
    "    \"actuators\": [\"MoveForward\", \"TurnLeft\", \"TurnRight\", \"Grab\", \"Shoot\", \"Climb\"],\n",
    "    \"sensors\": [\"Stench\", \"Breeze\", \"Glitter\", \"Bump\", \"Scream\"]\n",
    "}"
   ]
  },
  {
   "cell_type": "markdown",
   "id": "39af8ca3",
   "metadata": {},
   "source": [
    "**Instrucciones:**\n",
    "- Explica qué representa cada componente PEAS en el mundo del Wumpus.\n",
    "- ¿Cuál es la medida de desempeño si el agente realiza 15 pasos, recoge oro y muere?\n",
    "- ¿Qué comportamiento se incentiva con esta fórmula?"
   ]
  },
  {
   "cell_type": "markdown",
   "id": "46b4f5e0",
   "metadata": {},
   "source": [
    "## Pregunta 3: Modelos posibles y percepciones\n",
    "Ejecuta y analiza el siguiente código:"
   ]
  },
  {
   "cell_type": "code",
   "execution_count": null,
   "id": "3eff9cf5",
   "metadata": {},
   "outputs": [],
   "source": [
    "percepciones = {\"Brisa_2_1\": True, \"Stench_2_2\": False}\n",
    "TELL(percepciones)\n",
    "KB"
   ]
  },
  {
   "cell_type": "markdown",
   "id": "acb02923",
   "metadata": {},
   "source": [
    "**Instrucciones:**\n",
    "- Interpreta lo que percibe el agente.\n",
    "- ¿Qué modelos posibles pueden inferirse?\n",
    "- ¿Qué decisiones puede tomar el agente en cuanto a moverse o disparar?"
   ]
  },
  {
   "cell_type": "markdown",
   "id": "96e562d9",
   "metadata": {},
   "source": [
    "## Pregunta 4: Decisiones del agente\n",
    "Analiza esta clase de agente lógico básico:"
   ]
  },
  {
   "cell_type": "code",
   "execution_count": null,
   "id": "2f453c8f",
   "metadata": {},
   "outputs": [],
   "source": [
    "class LogicalAgent:\n",
    "    def __init__(self):\n",
    "        self.KB = {}\n",
    "    def perceive(self, perception):\n",
    "        self.KB.update(perception)\n",
    "    def decide(self):\n",
    "        if self.KB.get(\"Glitter\"):\n",
    "            return \"Grab\"\n",
    "        return \"MoveForward\""
   ]
  },
  {
   "cell_type": "markdown",
   "id": "32072144",
   "metadata": {},
   "source": [
    "**Instrucciones:**\n",
    "- ¿Cómo toma decisiones este agente?\n",
    "- ¿Qué limitación tiene respecto a agentes basados en reglas lógicas?\n",
    "- Propon una mejora que permita evitar pozos si se percibe brisa."
   ]
  },
  {
   "cell_type": "markdown",
   "id": "bf27f053",
   "metadata": {},
   "source": [
    "## Pregunta 5: Lógica de disparo condicional\n",
    "Estudia esta regla de disparo basada en percepciones:"
   ]
  },
  {
   "cell_type": "code",
   "execution_count": null,
   "id": "0de2ecc3",
   "metadata": {},
   "outputs": [],
   "source": [
    "if KB.get(\"Stench_2_2\") and KB.get(\"Flecha_Disponible\"):\n",
    "    accion = \"Shoot\""
   ]
  },
  {
   "cell_type": "markdown",
   "id": "e47c84e0",
   "metadata": {},
   "source": [
    "**Instrucciones:**\n",
    "- Interpreta la lógica de esta regla.\n",
    "- ¿Qué asume el agente sobre la ubicación del Wumpus?\n",
    "- ¿Cómo mejorarías la decisión del disparo usando inferencia múltiple o probabilística?"
   ]
  }
 ],
 "metadata": {},
 "nbformat": 4,
 "nbformat_minor": 5
}
